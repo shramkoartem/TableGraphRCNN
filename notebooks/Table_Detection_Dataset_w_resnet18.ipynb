{
  "nbformat": 4,
  "nbformat_minor": 0,
  "metadata": {
    "colab": {
      "name": "Table Detection Dataset.ipynb",
      "provenance": [],
      "collapsed_sections": [],
      "authorship_tag": "ABX9TyMzSyjWfa2xmbnN/LJoggRy",
      "include_colab_link": true
    },
    "kernelspec": {
      "name": "python3",
      "display_name": "Python 3"
    },
    "accelerator": "GPU"
  },
  "cells": [
    {
      "cell_type": "markdown",
      "metadata": {
        "id": "view-in-github",
        "colab_type": "text"
      },
      "source": [
        "<a href=\"https://colab.research.google.com/github/shramkoartem/TableGraphRCNN/blob/dev/notebooks/Table_Detection_Dataset_w_resnet18.ipynb\" target=\"_parent\"><img src=\"https://colab.research.google.com/assets/colab-badge.svg\" alt=\"Open In Colab\"/></a>"
      ]
    },
    {
      "cell_type": "code",
      "metadata": {
        "id": "aJfnXfhAKErD"
      },
      "source": [
        "# https://github.com/sgrpanchal31/table-detection-dataset/archive/master.zip\n",
        "# https://github.com/sgrpanchal31/table-detection-dataset - source"
      ],
      "execution_count": 29,
      "outputs": []
    },
    {
      "cell_type": "code",
      "metadata": {
        "colab": {
          "base_uri": "https://localhost:8080/"
        },
        "id": "uOgeICIwKGfx",
        "outputId": "5f33531a-a03c-4255-bb90-fc0494d60978"
      },
      "source": [
        "!wget https://github.com/sgrpanchal31/table-detection-dataset/archive/master.zip\n",
        "!ls"
      ],
      "execution_count": 30,
      "outputs": [
        {
          "output_type": "stream",
          "text": [
            "--2021-01-26 09:41:32--  https://github.com/sgrpanchal31/table-detection-dataset/archive/master.zip\n",
            "Resolving github.com (github.com)... 192.30.255.112\n",
            "Connecting to github.com (github.com)|192.30.255.112|:443... connected.\n",
            "HTTP request sent, awaiting response... 302 Found\n",
            "Location: https://codeload.github.com/sgrpanchal31/table-detection-dataset/zip/master [following]\n",
            "--2021-01-26 09:41:32--  https://codeload.github.com/sgrpanchal31/table-detection-dataset/zip/master\n",
            "Resolving codeload.github.com (codeload.github.com)... 192.30.255.121\n",
            "Connecting to codeload.github.com (codeload.github.com)|192.30.255.121|:443... connected.\n",
            "HTTP request sent, awaiting response... 200 OK\n",
            "Length: unspecified [application/zip]\n",
            "Saving to: ‘master.zip.1’\n",
            "\n",
            "master.zip.1            [        <=>         ]  29.74M  18.1MB/s    in 1.6s    \n",
            "\n",
            "2021-01-26 09:41:34 (18.1 MB/s) - ‘master.zip.1’ saved [31182443]\n",
            "\n",
            "data  master.zip  master.zip.1\tsample_data\n"
          ],
          "name": "stdout"
        }
      ]
    },
    {
      "cell_type": "code",
      "metadata": {
        "id": "YVgA6_uQKJ-0"
      },
      "source": [
        "!unzip -q master.zip\n",
        "!mv table-detection-dataset-master data"
      ],
      "execution_count": 31,
      "outputs": []
    },
    {
      "cell_type": "code",
      "metadata": {
        "id": "pC2y3FOJK-na"
      },
      "source": [
        "import os\n",
        "import torch\n",
        "import pandas as pd\n",
        "import numpy as np\n",
        "import matplotlib.pyplot as plt\n",
        "from torch.utils.data import Dataset, DataLoader\n",
        "from torchvision import transforms, utils\n",
        "import cv2\n",
        "\n",
        "\n",
        "from skimage import io, transform\n",
        "import skimage\n",
        "\n",
        "plt.ion()\n"
      ],
      "execution_count": 32,
      "outputs": []
    },
    {
      "cell_type": "code",
      "metadata": {
        "colab": {
          "base_uri": "https://localhost:8080/"
        },
        "id": "DyjryTtNK_QB",
        "outputId": "660e7db5-f862-4af0-bef4-6ea564f0d43b"
      },
      "source": [
        "IMG_PATH = \"data/images/\"\n",
        "\n",
        "train_bbox_df = pd.read_csv(\"data/train.csv\", header=None)\n",
        "val_bbox_df = pd.read_csv(\"data/val.csv\", header=None)\n",
        "\n",
        "print(len(os.listdir(IMG_PATH)))\n",
        "print(len(train_bbox_df))\n",
        "print(len(val_bbox_df))"
      ],
      "execution_count": 33,
      "outputs": [
        {
          "output_type": "stream",
          "text": [
            "403\n",
            "418\n",
            "100\n"
          ],
          "name": "stdout"
        }
      ]
    },
    {
      "cell_type": "code",
      "metadata": {
        "colab": {
          "base_uri": "https://localhost:8080/",
          "height": 204
        },
        "id": "e6VS5EspN8go",
        "outputId": "60677b23-bb8e-47b7-a2f3-538c72bba4fd"
      },
      "source": [
        "train_bbox_df.iloc[:5,1:-1]"
      ],
      "execution_count": 34,
      "outputs": [
        {
          "output_type": "execute_result",
          "data": {
            "text/html": [
              "<div>\n",
              "<style scoped>\n",
              "    .dataframe tbody tr th:only-of-type {\n",
              "        vertical-align: middle;\n",
              "    }\n",
              "\n",
              "    .dataframe tbody tr th {\n",
              "        vertical-align: top;\n",
              "    }\n",
              "\n",
              "    .dataframe thead th {\n",
              "        text-align: right;\n",
              "    }\n",
              "</style>\n",
              "<table border=\"1\" class=\"dataframe\">\n",
              "  <thead>\n",
              "    <tr style=\"text-align: right;\">\n",
              "      <th></th>\n",
              "      <th>1</th>\n",
              "      <th>2</th>\n",
              "      <th>3</th>\n",
              "      <th>4</th>\n",
              "    </tr>\n",
              "  </thead>\n",
              "  <tbody>\n",
              "    <tr>\n",
              "      <th>0</th>\n",
              "      <td>770</td>\n",
              "      <td>946</td>\n",
              "      <td>2070</td>\n",
              "      <td>2973</td>\n",
              "    </tr>\n",
              "    <tr>\n",
              "      <th>1</th>\n",
              "      <td>270</td>\n",
              "      <td>1653</td>\n",
              "      <td>2280</td>\n",
              "      <td>2580</td>\n",
              "    </tr>\n",
              "    <tr>\n",
              "      <th>2</th>\n",
              "      <td>303</td>\n",
              "      <td>343</td>\n",
              "      <td>2273</td>\n",
              "      <td>2953</td>\n",
              "    </tr>\n",
              "    <tr>\n",
              "      <th>3</th>\n",
              "      <td>664</td>\n",
              "      <td>1782</td>\n",
              "      <td>1814</td>\n",
              "      <td>2076</td>\n",
              "    </tr>\n",
              "    <tr>\n",
              "      <th>4</th>\n",
              "      <td>704</td>\n",
              "      <td>432</td>\n",
              "      <td>1744</td>\n",
              "      <td>1552</td>\n",
              "    </tr>\n",
              "  </tbody>\n",
              "</table>\n",
              "</div>"
            ],
            "text/plain": [
              "     1     2     3     4\n",
              "0  770   946  2070  2973\n",
              "1  270  1653  2280  2580\n",
              "2  303   343  2273  2953\n",
              "3  664  1782  1814  2076\n",
              "4  704   432  1744  1552"
            ]
          },
          "metadata": {
            "tags": []
          },
          "execution_count": 34
        }
      ]
    },
    {
      "cell_type": "code",
      "metadata": {
        "colab": {
          "base_uri": "https://localhost:8080/"
        },
        "id": "kQLbZg4_Siek",
        "outputId": "4c84dcc6-7e9e-45e2-fb22-37ca8204ca89"
      },
      "source": [
        "n =5 \n",
        "\n",
        "img_name = train_bbox_df.iloc[n,0]\n",
        "bbox = train_bbox_df.iloc[n,1:-1]\n",
        "bbox = np.asarray(bbox)\n",
        "print(bbox)\n"
      ],
      "execution_count": 35,
      "outputs": [
        {
          "output_type": "stream",
          "text": [
            "[682 1740 1800 2440]\n"
          ],
          "name": "stdout"
        }
      ]
    },
    {
      "cell_type": "code",
      "metadata": {
        "colab": {
          "base_uri": "https://localhost:8080/",
          "height": 269
        },
        "id": "eJQqi81eTYqd",
        "outputId": "7e33317b-56cc-41b4-abf4-9d4b027c1fbf"
      },
      "source": [
        "import matplotlib.pyplot as plt\n",
        "from matplotlib.patches import Rectangle\n",
        "from PIL import Image\n",
        "\n",
        "\n",
        "def show_bbox(image, bbox):\n",
        "  \"\"\" Show image with bbox \"\"\"\n",
        "  plt.imshow(image)\n",
        "\n",
        "  # draw rectangle\n",
        "  xmin, ymin, xmax, ymax = bbox\n",
        "  w = xmax - xmin\n",
        "  h = ymax - ymin\n",
        "\n",
        "  rect = Rectangle((xmin, ymin), w, h,\n",
        "                   linewidth=1,edgecolor='r',\n",
        "                   facecolor='none')\n",
        "  ax = plt.gca()\n",
        "  ax.add_patch(rect)\n",
        "  plt.pause(0.001)\n",
        "\n",
        "\n",
        "im = Image.open(os.path.join(IMG_PATH, img_name))\n",
        "show_bbox(im, bbox)\n",
        "\n"
      ],
      "execution_count": 36,
      "outputs": [
        {
          "output_type": "display_data",
          "data": {
            "image/png": "[encoded data removed]",
            "text/plain": [
              "<Figure size 432x288 with 1 Axes>"
            ]
          },
          "metadata": {
            "tags": [],
            "needs_background": "light"
          }
        }
      ]
    },
    {
      "cell_type": "code",
      "metadata": {
        "id": "7eakOIfkS-MY"
      },
      "source": [
        "gray_img = skimage.io.imread(os.path.join(IMG_PATH, img_name))"
      ],
      "execution_count": 37,
      "outputs": []
    },
    {
      "cell_type": "code",
      "metadata": {
        "colab": {
          "base_uri": "https://localhost:8080/"
        },
        "id": "T5dnyJBxX9Mi",
        "outputId": "fcd81b04-a429-4bee-ca32-facb4cb6ffe6"
      },
      "source": [
        "np.expand_dims(im, axis=2).shape"
      ],
      "execution_count": 38,
      "outputs": [
        {
          "output_type": "execute_result",
          "data": {
            "text/plain": [
              "(3300, 2544, 1)"
            ]
          },
          "metadata": {
            "tags": []
          },
          "execution_count": 38
        }
      ]
    },
    {
      "cell_type": "code",
      "metadata": {
        "colab": {
          "base_uri": "https://localhost:8080/"
        },
        "id": "7YAlkRF-CtWZ",
        "outputId": "f6aa680c-b255-4efd-cb19-35e5276f80aa"
      },
      "source": [
        "import cv2\n",
        "\n",
        "color_img = cv2.cvtColor(gray_img, cv2.COLOR_GRAY2RGB)\n",
        "\n",
        "color_img.astype(float)"
      ],
      "execution_count": 53,
      "outputs": [
        {
          "output_type": "execute_result",
          "data": {
            "text/plain": [
              "array([[[255., 255., 255.],\n",
              "        [255., 255., 255.],\n",
              "        [255., 255., 255.],\n",
              "        ...,\n",
              "        [255., 255., 255.],\n",
              "        [255., 255., 255.],\n",
              "        [255., 255., 255.]],\n",
              "\n",
              "       [[255., 255., 255.],\n",
              "        [255., 255., 255.],\n",
              "        [255., 255., 255.],\n",
              "        ...,\n",
              "        [255., 255., 255.],\n",
              "        [255., 255., 255.],\n",
              "        [255., 255., 255.]],\n",
              "\n",
              "       [[255., 255., 255.],\n",
              "        [255., 255., 255.],\n",
              "        [255., 255., 255.],\n",
              "        ...,\n",
              "        [255., 255., 255.],\n",
              "        [255., 255., 255.],\n",
              "        [255., 255., 255.]],\n",
              "\n",
              "       ...,\n",
              "\n",
              "       [[255., 255., 255.],\n",
              "        [255., 255., 255.],\n",
              "        [255., 255., 255.],\n",
              "        ...,\n",
              "        [255., 255., 255.],\n",
              "        [255., 255., 255.],\n",
              "        [255., 255., 255.]],\n",
              "\n",
              "       [[255., 255., 255.],\n",
              "        [255., 255., 255.],\n",
              "        [255., 255., 255.],\n",
              "        ...,\n",
              "        [255., 255., 255.],\n",
              "        [255., 255., 255.],\n",
              "        [255., 255., 255.]],\n",
              "\n",
              "       [[255., 255., 255.],\n",
              "        [255., 255., 255.],\n",
              "        [255., 255., 255.],\n",
              "        ...,\n",
              "        [255., 255., 255.],\n",
              "        [255., 255., 255.],\n",
              "        [255., 255., 255.]]])"
            ]
          },
          "metadata": {
            "tags": []
          },
          "execution_count": 53
        }
      ]
    },
    {
      "cell_type": "markdown",
      "metadata": {
        "id": "4_SOn5EPMlat"
      },
      "source": [
        "# Dataset"
      ]
    },
    {
      "cell_type": "code",
      "metadata": {
        "id": "mppGpg-WK_Sg"
      },
      "source": [
        "class TableDataset(Dataset):\n",
        "  \"\"\" Table Detection Dataset \"\"\"\n",
        "  def __init__(self, img_path, csv_file, \n",
        "               transforms=False, \n",
        "               drop_duplicates=False,\n",
        "               grayscalse_to_color=True):\n",
        "    \"\"\"        \n",
        "    Args:\n",
        "      img_path (string): Directory containing images\n",
        "      csv_file (string): Path to the csv file containig annotations\n",
        "      transform (callable, optional): Transforms to be applied\n",
        "      drop_dublicates (boolean, optional): Removes rows that contain\n",
        "                           more than one bounding box in the image \n",
        "      grayscalse_to_color (boolean, optional): converts grayscalse\n",
        "                          image of shape (w, h) into a 3 channels\n",
        "                          image of shape (w, h, c)\n",
        "      \n",
        "    \"\"\"\n",
        "    self.img_path = img_path\n",
        "    self.bbox_frame = pd.read_csv(csv_file, header=None)\n",
        "    self.transforms = transforms\n",
        "    self.grayscalse_to_color = grayscalse_to_color\n",
        "\n",
        "    if drop_duplicates:\n",
        "      self.bbox_frame = self.bbox_frame.drop_duplicates(subset=0,\n",
        "                                                        keep=False)\n",
        "\n",
        "  def __len__(self):\n",
        "    return len(self.bbox_frame)\n",
        "\n",
        "  def __getitem__(self, idx):\n",
        "    \"\"\"\n",
        "    Returns sample at index 'idx'\n",
        "    Returns:\n",
        "      {\"image\": image, \"bbox\": bbox} (dict)\n",
        "    \"\"\"\n",
        "    if torch.is_tensor(idx):\n",
        "      idx = idx.tolist()\n",
        "\n",
        "    # load image\n",
        "    img_name = self.bbox_frame.iloc[idx,0]\n",
        "    image = skimage.io.imread(os.path.join(self.img_path, img_name))\n",
        "    # since the dataset is grayscale, we need to add channels\n",
        "    # since models require 3 channels input for color\n",
        "    if self.grayscalse_to_color:\n",
        "      image = cv2.cvtColor(image, cv2.COLOR_GRAY2RGB)\n",
        "    image = image.astype(float)\n",
        "\n",
        "    # load coordinates of a bounding box\n",
        "    bbox = self.bbox_frame.iloc[idx,1:-1]\n",
        "    bbox = np.array(bbox)\n",
        "    sample = {'image': image, \"bbox\": bbox}\n",
        "\n",
        "    if self.transforms:\n",
        "      sample = self.transforms(sample)\n",
        "\n",
        "    return sample\n",
        "\n",
        "\n"
      ],
      "execution_count": 54,
      "outputs": []
    },
    {
      "cell_type": "code",
      "metadata": {
        "id": "dVsrwyQuZbp6"
      },
      "source": [
        ""
      ],
      "execution_count": 40,
      "outputs": []
    },
    {
      "cell_type": "code",
      "metadata": {
        "colab": {
          "base_uri": "https://localhost:8080/",
          "height": 609
        },
        "id": "pjsCMmhfKVOG",
        "outputId": "8afbb9c9-ec18-4f73-b85d-e7f05d8a326c"
      },
      "source": [
        "# test\n",
        "\n",
        "ds = TableDataset(img_path = IMG_PATH, csv_file=\"data/train.csv\")\n",
        "\n",
        "fig = plt.figure()\n",
        "\n",
        "for i in range(len(ds)):\n",
        "  sample = ds[i]\n",
        "\n",
        "  print(i, sample[\"image\"].shape, sample[\"bbox\"].shape)\n",
        "\n",
        "  ax = plt.subplot(1,4, i+1)\n",
        "  plt.tight_layout()\n",
        "  ax.set_title(f\"Sample #{i}\")\n",
        "  ax.axis(\"off\")\n",
        "  show_bbox(**sample)\n",
        "\n",
        "  if i ==3:\n",
        "    plt.show()\n",
        "    break"
      ],
      "execution_count": 41,
      "outputs": [
        {
          "output_type": "stream",
          "text": [
            "0 (3300, 2544, 3) (4,)\n"
          ],
          "name": "stdout"
        },
        {
          "output_type": "display_data",
          "data": {
            "image/png": "[encoded data removed]",
            "text/plain": [
              "<Figure size 432x288 with 1 Axes>"
            ]
          },
          "metadata": {
            "tags": [],
            "needs_background": "light"
          }
        },
        {
          "output_type": "stream",
          "text": [
            "1 (3300, 2544, 3) (4,)\n"
          ],
          "name": "stdout"
        },
        {
          "output_type": "display_data",
          "data": {
            "image/png": "[encoded data removed]",
            "text/plain": [
              "<Figure size 432x288 with 1 Axes>"
            ]
          },
          "metadata": {
            "tags": [],
            "needs_background": "light"
          }
        },
        {
          "output_type": "stream",
          "text": [
            "2 (3300, 2544, 3) (4,)\n"
          ],
          "name": "stdout"
        },
        {
          "output_type": "display_data",
          "data": {
            "image/png": "[encoded data removed]",
            "text/plain": [
              "<Figure size 432x288 with 1 Axes>"
            ]
          },
          "metadata": {
            "tags": [],
            "needs_background": "light"
          }
        },
        {
          "output_type": "stream",
          "text": [
            "3 (3300, 2560, 3) (4,)\n"
          ],
          "name": "stdout"
        },
        {
          "output_type": "display_data",
          "data": {
            "image/png": "[encoded data removed]",
            "text/plain": [
              "<Figure size 432x288 with 1 Axes>"
            ]
          },
          "metadata": {
            "tags": [],
            "needs_background": "light"
          }
        }
      ]
    },
    {
      "cell_type": "code",
      "metadata": {
        "colab": {
          "base_uri": "https://localhost:8080/"
        },
        "id": "d0cRJIPSZESp",
        "outputId": "5235fbbf-da75-4864-a715-624f938bc299"
      },
      "source": [
        "sample[\"bbox\"]"
      ],
      "execution_count": 42,
      "outputs": [
        {
          "output_type": "execute_result",
          "data": {
            "text/plain": [
              "array([664, 1782, 1814, 2076], dtype=object)"
            ]
          },
          "metadata": {
            "tags": []
          },
          "execution_count": 42
        }
      ]
    },
    {
      "cell_type": "markdown",
      "metadata": {
        "id": "Do5BaI02bbJa"
      },
      "source": [
        "# Transforms"
      ]
    },
    {
      "cell_type": "code",
      "metadata": {
        "id": "WqcC5YdHbc6L"
      },
      "source": [
        "import skimage\n",
        "\n",
        "class Rescale(object):\n",
        "  def __init__(self, output_size):\n",
        "    assert isinstance(output_size, tuple)\n",
        "    self.output_size = output_size\n",
        "\n",
        "  def __call__(self, sample):\n",
        "    \"\"\"Rescale the image in a sample to a given size.\n",
        "\n",
        "    Args:\n",
        "        output_size (tuple or int): Desired output size. If tuple, output is\n",
        "            matched to output_size. If int, smaller of image edges is matched\n",
        "            to output_size keeping aspect ratio the same.\n",
        "    \"\"\"\n",
        "\n",
        "    image, bbox = sample['image'], sample['bbox']\n",
        "    xmin, ymin, xmax, ymax = bbox.tolist()\n",
        "    h, w = image.shape[:2]\n",
        "\n",
        "    new_h, new_w = self.output_size\n",
        "\n",
        "    image = skimage.transform.resize(image, (new_h, new_w))\n",
        "    bbox = bbox * [new_w / w, new_h / h,\n",
        "                             new_w / w, new_h / h]\n",
        "\n",
        "    resized_sample = {'image' : image, 'bbox' : bbox}\n",
        "    return resized_sample\n",
        "\n",
        "\n"
      ],
      "execution_count": 43,
      "outputs": []
    },
    {
      "cell_type": "code",
      "metadata": {
        "id": "0WHCudB6v7V2"
      },
      "source": [
        "class ToTensor(object):\n",
        "    \"\"\"Convert ndarrays in sample to Tensors.\"\"\"\n",
        "\n",
        "    def __call__(self, sample):\n",
        "        image, bbox = sample['image'], sample['bbox']\n",
        "        \n",
        "        # swap color axis because\n",
        "        # numpy image: H x W x C\n",
        "        # torch image: C X H X W\n",
        "        image = image.transpose((2, 0, 1))\n",
        "\n",
        "        return {'image': torch.tensor(image, dtype=torch.float),\n",
        "                'bbox': torch.tensor(bbox.tolist(), dtype=float)}"
      ],
      "execution_count": 76,
      "outputs": []
    },
    {
      "cell_type": "code",
      "metadata": {
        "colab": {
          "base_uri": "https://localhost:8080/",
          "height": 269
        },
        "id": "C1J8HTPWeH8O",
        "outputId": "322e492c-a1d0-435d-ecbb-11f5092632c3"
      },
      "source": [
        "scale = Rescale((500,300))\n",
        "\n",
        "imtest = scale(ds[1])\n",
        "\n",
        "show_bbox(**imtest)"
      ],
      "execution_count": 77,
      "outputs": [
        {
          "output_type": "display_data",
          "data": {
            "image/png": "[encoded data removed]",
            "text/plain": [
              "<Figure size 432x288 with 1 Axes>"
            ]
          },
          "metadata": {
            "tags": [],
            "needs_background": "light"
          }
        }
      ]
    },
    {
      "cell_type": "code",
      "metadata": {
        "id": "VVR1Hz0Re3UW"
      },
      "source": [
        ""
      ],
      "execution_count": 75,
      "outputs": []
    },
    {
      "cell_type": "markdown",
      "metadata": {
        "id": "JaIUvN_zEY6U"
      },
      "source": [
        "# Defining a data loader"
      ]
    },
    {
      "cell_type": "code",
      "metadata": {
        "id": "kaGX0g3Eh5W6"
      },
      "source": [
        "data_transforms = transforms.Compose([Rescale((224, 224)),\n",
        "                                      ToTensor()])\n",
        "\n",
        "dataset_params = {x : {\"img_path\": \"data/images\",\n",
        "                       \"csv_file\": f\"data/{x}.csv\",\n",
        "                       \"transforms\" : data_transforms,\n",
        "                       \"drop_duplicates\": True} \n",
        "                  for x in [\"train\", \"val\"]}\n",
        "\n",
        "datasets = {x: TableDataset(**dataset_params[x]) \n",
        "            for x in [\"train\", \"val\"]}\n",
        "\n",
        "dataloaders = {x : torch.utils.data.DataLoader(datasets[x],\n",
        "                                               batch_size = 4,\n",
        "                                               shuffle=True,\n",
        "                                               num_workers=4)\n",
        "              for x in [\"train\", 'val']}\n",
        "\n",
        "dataset_sizes = {x: len(datasets[x]) for x in ['train', 'val']}\n"
      ],
      "execution_count": 78,
      "outputs": []
    },
    {
      "cell_type": "code",
      "metadata": {
        "id": "SYf2GHICxf1X"
      },
      "source": [
        "# test\n",
        "#next(iter(dataloaders[\"train\"]))\n",
        "# works:)"
      ],
      "execution_count": 71,
      "outputs": []
    },
    {
      "cell_type": "markdown",
      "metadata": {
        "id": "xLCVFnJSk5T3"
      },
      "source": [
        "# Transfer Learning"
      ]
    },
    {
      "cell_type": "code",
      "metadata": {
        "id": "ibFwhEwDgiR3"
      },
      "source": [
        "import torch\n",
        "import torch.nn as nn\n",
        "import torch.optim as optim\n",
        "from torch.optim import lr_scheduler\n",
        "import torchvision\n",
        "from torchvision import datasets, models, transforms\n",
        "import time\n",
        "import copy\n",
        "import torch.nn.functional as F"
      ],
      "execution_count": 69,
      "outputs": []
    },
    {
      "cell_type": "markdown",
      "metadata": {
        "id": "toF-1S7k02qS"
      },
      "source": [
        "# Train"
      ]
    },
    {
      "cell_type": "code",
      "metadata": {
        "id": "m0PA44E9yZ3H"
      },
      "source": [
        "def train_model(model, optimizer, scheduler, num_epochs=25):\n",
        "    since = time.time()\n",
        "\n",
        "    best_model_wts = copy.deepcopy(model.state_dict())\n",
        "    best_loss = 10**6\n",
        "\n",
        "    for epoch in range(num_epochs):\n",
        "        print('Epoch {}/{}'.format(epoch, num_epochs - 1))\n",
        "        print('-' * 10)\n",
        "\n",
        "        # Each epoch has a training and validation phase\n",
        "        for phase in ['train', 'val']:\n",
        "            if phase == 'train':\n",
        "                model.train()  # Set model to training mode\n",
        "            else:\n",
        "                model.eval()   # Set model to evaluate mode\n",
        "\n",
        "            running_loss = 0.0\n",
        "            running_corrects = 0\n",
        "\n",
        "            # Iterate over data.\n",
        "            for sample in dataloaders[phase]:\n",
        "                inputs = sample[\"image\"].to(device, dtype=torch.float)\n",
        "                labels = sample[\"bbox\"].to(device, dtype=torch.float)\n",
        "\n",
        "                # zero the parameter gradients\n",
        "                optimizer.zero_grad()\n",
        "\n",
        "                # forward\n",
        "                # track history if only in train\n",
        "                with torch.set_grad_enabled(phase == 'train'):\n",
        "                    outputs = model(inputs)\n",
        "\n",
        "                    loss = F.l1_loss(outputs, labels, reduction=\"none\").sum(1)\n",
        "                    loss = loss.sum()\n",
        "\n",
        "                    # backward + optimize only if in training phase\n",
        "                    if phase == 'train':\n",
        "                        loss.backward()\n",
        "                        optimizer.step()\n",
        "\n",
        "                # statistics\n",
        "                running_loss += loss.item() * inputs.size(0)\n",
        "\n",
        "            if phase == 'train':\n",
        "                scheduler.step()\n",
        "\n",
        "            epoch_loss = running_loss / dataset_sizes[phase]\n",
        "\n",
        "            print('{} Loss: {:.4f}'.format(\n",
        "                phase, epoch_loss))\n",
        "\n",
        "            # deep copy the model\n",
        "            if phase == 'val' and epoch_loss < best_loss:\n",
        "                best_loss = epoch_loss\n",
        "                best_model_wts = copy.deepcopy(model.state_dict())\n",
        "\n",
        "        print()\n",
        "\n",
        "    time_elapsed = time.time() - since\n",
        "    print('Training complete in {:.0f}m {:.0f}s'.format(\n",
        "        time_elapsed // 60, time_elapsed % 60))\n",
        "    print('Best val Loss: {:4f}'.format(best_loss))\n",
        "\n",
        "    # load best model weights\n",
        "    model.load_state_dict(best_model_wts)\n",
        "    return model"
      ],
      "execution_count": 80,
      "outputs": []
    },
    {
      "cell_type": "code",
      "metadata": {
        "id": "KNbqRYep04S0"
      },
      "source": [
        "# finetuning the convnet\n",
        "device = torch.device(\"cuda:0\" if torch.cuda.is_available() else \"cpu\")\n",
        "\n",
        "model = models.resnet18(pretrained=True)\n",
        "num_in_features = model.fc.in_features\n",
        "model.fc = nn.Linear(num_in_features, 4)\n",
        "\n",
        "model = model.to(device)\n",
        "\n",
        "parameters = filter(lambda p: p.requires_grad, model.parameters())\n",
        "optimizer = torch.optim.SGD(parameters, lr=0.006)\n",
        "\n",
        "exp_lr_scheduler = lr_scheduler.StepLR(optimizer, step_size=7, gamma=0.1)\n",
        "\n",
        "\n"
      ],
      "execution_count": 65,
      "outputs": []
    },
    {
      "cell_type": "code",
      "metadata": {
        "colab": {
          "base_uri": "https://localhost:8080/"
        },
        "id": "RfJk_ZWH3XIU",
        "outputId": "3b7eb490-687e-4d11-fa99-2d7ec08c9343"
      },
      "source": [
        "model_ft = train_model(model, optimizer, exp_lr_scheduler,\n",
        "                       num_epochs=25)"
      ],
      "execution_count": null,
      "outputs": [
        {
          "output_type": "stream",
          "text": [
            "Epoch 0/24\n",
            "----------\n",
            "train Loss: 404.7971\n",
            "val Loss: 353.0919\n",
            "\n",
            "Epoch 1/24\n",
            "----------\n",
            "train Loss: 397.2520\n",
            "val Loss: 409.0602\n",
            "\n",
            "Epoch 2/24\n",
            "----------\n",
            "train Loss: 395.4948\n",
            "val Loss: 397.5399\n",
            "\n",
            "Epoch 3/24\n",
            "----------\n",
            "train Loss: 380.2005\n",
            "val Loss: 363.3342\n",
            "\n",
            "Epoch 4/24\n",
            "----------\n",
            "train Loss: 371.1731\n",
            "val Loss: 453.8435\n",
            "\n",
            "Epoch 5/24\n",
            "----------\n",
            "train Loss: 341.5824\n",
            "val Loss: 284.7162\n",
            "\n",
            "Epoch 6/24\n",
            "----------\n",
            "train Loss: 335.3495\n",
            "val Loss: 275.6946\n",
            "\n",
            "Epoch 7/24\n",
            "----------\n",
            "train Loss: 323.2746\n",
            "val Loss: 276.9386\n",
            "\n",
            "Epoch 8/24\n",
            "----------\n",
            "train Loss: 320.9903\n",
            "val Loss: 280.3691\n",
            "\n",
            "Epoch 9/24\n",
            "----------\n",
            "train Loss: 320.9328\n",
            "val Loss: 317.9195\n",
            "\n",
            "Epoch 10/24\n",
            "----------\n",
            "train Loss: 317.5084\n",
            "val Loss: 275.9621\n",
            "\n",
            "Epoch 11/24\n",
            "----------\n",
            "train Loss: 309.8668\n",
            "val Loss: 269.9741\n",
            "\n",
            "Epoch 12/24\n",
            "----------\n",
            "train Loss: 307.8110\n",
            "val Loss: 255.8697\n",
            "\n",
            "Epoch 13/24\n",
            "----------\n",
            "train Loss: 301.2687\n",
            "val Loss: 267.0320\n",
            "\n",
            "Epoch 14/24\n",
            "----------\n",
            "train Loss: 305.6733\n",
            "val Loss: 263.0528\n",
            "\n",
            "Epoch 15/24\n",
            "----------\n",
            "train Loss: 304.3479\n",
            "val Loss: 275.6047\n",
            "\n",
            "Epoch 16/24\n",
            "----------\n",
            "train Loss: 293.8055\n",
            "val Loss: 256.1439\n",
            "\n",
            "Epoch 17/24\n",
            "----------\n",
            "train Loss: 305.3543\n",
            "val Loss: 259.2554\n",
            "\n",
            "Epoch 18/24\n",
            "----------\n",
            "train Loss: 303.6129\n",
            "val Loss: 257.1957\n",
            "\n",
            "Epoch 19/24\n",
            "----------\n",
            "train Loss: 299.0513\n",
            "val Loss: 257.8257\n",
            "\n",
            "Epoch 20/24\n",
            "----------\n",
            "train Loss: 299.1422\n",
            "val Loss: 251.2079\n",
            "\n",
            "Epoch 21/24\n",
            "----------\n",
            "train Loss: 302.2511\n",
            "val Loss: 258.0084\n",
            "\n",
            "Epoch 22/24\n",
            "----------\n",
            "train Loss: 302.3604\n",
            "val Loss: 251.6857\n",
            "\n",
            "Epoch 23/24\n",
            "----------\n",
            "train Loss: 293.5547\n",
            "val Loss: 268.0110\n",
            "\n",
            "Epoch 24/24\n",
            "----------\n"
          ],
          "name": "stdout"
        }
      ]
    },
    {
      "cell_type": "code",
      "metadata": {
        "id": "gblhVf9j31q3"
      },
      "source": [
        "torch.save(model.state_dict(), \"resnet18_table.pt\")"
      ],
      "execution_count": 83,
      "outputs": []
    },
    {
      "cell_type": "code",
      "metadata": {
        "id": "qBRkXvJY2OsL"
      },
      "source": [
        ""
      ],
      "execution_count": null,
      "outputs": []
    }
  ]
}