{
  "nbformat": 4,
  "nbformat_minor": 0,
  "metadata": {
    "colab": {
      "name": "Table Detection Dataset.ipynb",
      "provenance": [],
      "authorship_tag": "ABX9TyNCKkvgkWRY2l2EfBKIQj3Z",
      "include_colab_link": true
    },
    "kernelspec": {
      "name": "python3",
      "display_name": "Python 3"
    }
  },
  "cells": [
    {
      "cell_type": "markdown",
      "metadata": {
        "id": "view-in-github",
        "colab_type": "text"
      },
      "source": [
        "<a href=\"https://colab.research.google.com/github/shramkoartem/TableGraphRCNN/blob/dev/notebooks/Table_Detection_Dataset.ipynb\" target=\"_parent\"><img src=\"https://colab.research.google.com/assets/colab-badge.svg\" alt=\"Open In Colab\"/></a>"
      ]
    },
    {
      "cell_type": "code",
      "metadata": {
        "id": "aJfnXfhAKErD"
      },
      "source": [
        "# https://github.com/sgrpanchal31/table-detection-dataset/archive/master.zip\n",
        "# https://github.com/sgrpanchal31/table-detection-dataset - source"
      ],
      "execution_count": 1,
      "outputs": []
    },
    {
      "cell_type": "code",
      "metadata": {
        "colab": {
          "base_uri": "https://localhost:8080/"
        },
        "id": "uOgeICIwKGfx",
        "outputId": "c9b63fc2-314e-407f-dc81-547b00d1a9e1"
      },
      "source": [
        "!wget https://github.com/sgrpanchal31/table-detection-dataset/archive/master.zip\n",
        "!ls"
      ],
      "execution_count": 2,
      "outputs": [
        {
          "output_type": "stream",
          "text": [
            "--2021-01-25 20:08:44--  https://github.com/sgrpanchal31/table-detection-dataset/archive/master.zip\n",
            "Resolving github.com (github.com)... 140.82.113.4\n",
            "Connecting to github.com (github.com)|140.82.113.4|:443... connected.\n",
            "HTTP request sent, awaiting response... 302 Found\n",
            "Location: https://codeload.github.com/sgrpanchal31/table-detection-dataset/zip/master [following]\n",
            "--2021-01-25 20:08:44--  https://codeload.github.com/sgrpanchal31/table-detection-dataset/zip/master\n",
            "Resolving codeload.github.com (codeload.github.com)... 140.82.112.9\n",
            "Connecting to codeload.github.com (codeload.github.com)|140.82.112.9|:443... connected.\n",
            "HTTP request sent, awaiting response... 200 OK\n",
            "Length: unspecified [application/zip]\n",
            "Saving to: ‘master.zip.1’\n",
            "\n",
            "master.zip.1            [       <=>          ]  29.74M  23.6MB/s    in 1.3s    \n",
            "\n",
            "2021-01-25 20:08:45 (23.6 MB/s) - ‘master.zip.1’ saved [31182443]\n",
            "\n",
            "master.zip  master.zip.1  sample_data  table-detection-dataset-master\n"
          ],
          "name": "stdout"
        }
      ]
    },
    {
      "cell_type": "code",
      "metadata": {
        "colab": {
          "base_uri": "https://localhost:8080/"
        },
        "id": "YVgA6_uQKJ-0",
        "outputId": "3a656f17-41d4-4907-e28b-ea6edff5f98f"
      },
      "source": [
        "!unzip -q master.zip\n",
        "!mv table-detection-dataset-master data"
      ],
      "execution_count": 3,
      "outputs": [
        {
          "output_type": "stream",
          "text": [
            "replace table-detection-dataset-master/LICENSE? [y]es, [n]o, [A]ll, [N]one, [r]ename: "
          ],
          "name": "stdout"
        }
      ]
    },
    {
      "cell_type": "code",
      "metadata": {
        "id": "pC2y3FOJK-na"
      },
      "source": [
        "import os\n",
        "import torch\n",
        "import pandas as pd\n",
        "import numpy as np\n",
        "import matplotlib.pyplot as plt\n",
        "from torch.utils.data import Dataset, DataLoader\n",
        "from torchvision import transforms, utils\n",
        "\n",
        "from skimage import io, transform\n",
        "import skimage\n",
        "\n",
        "plt.ion()\n"
      ],
      "execution_count": 100,
      "outputs": []
    },
    {
      "cell_type": "code",
      "metadata": {
        "colab": {
          "base_uri": "https://localhost:8080/"
        },
        "id": "DyjryTtNK_QB",
        "outputId": "c8e2a450-3998-4f00-c73d-e52d9b435704"
      },
      "source": [
        "IMG_PATH = \"data/images/\"\n",
        "\n",
        "train_bbox_df = pd.read_csv(\"data/train.csv\", header=None)\n",
        "val_bbox_df = pd.read_csv(\"data/val.csv\", header=None)\n",
        "\n",
        "print(len(os.listdir(IMG_PATH)))\n",
        "print(len(train_bbox_df))\n",
        "print(len(val_bbox_df))"
      ],
      "execution_count": 101,
      "outputs": [
        {
          "output_type": "stream",
          "text": [
            "403\n",
            "418\n",
            "100\n"
          ],
          "name": "stdout"
        }
      ]
    },
    {
      "cell_type": "code",
      "metadata": {
        "colab": {
          "base_uri": "https://localhost:8080/",
          "height": 204
        },
        "id": "e6VS5EspN8go",
        "outputId": "4c2077ff-91e4-4f30-a99b-3ff276e47ee9"
      },
      "source": [
        "train_bbox_df.iloc[:5,1:-1]"
      ],
      "execution_count": 102,
      "outputs": [
        {
          "output_type": "execute_result",
          "data": {
            "text/html": [
              "<div>\n",
              "<style scoped>\n",
              "    .dataframe tbody tr th:only-of-type {\n",
              "        vertical-align: middle;\n",
              "    }\n",
              "\n",
              "    .dataframe tbody tr th {\n",
              "        vertical-align: top;\n",
              "    }\n",
              "\n",
              "    .dataframe thead th {\n",
              "        text-align: right;\n",
              "    }\n",
              "</style>\n",
              "<table border=\"1\" class=\"dataframe\">\n",
              "  <thead>\n",
              "    <tr style=\"text-align: right;\">\n",
              "      <th></th>\n",
              "      <th>1</th>\n",
              "      <th>2</th>\n",
              "      <th>3</th>\n",
              "      <th>4</th>\n",
              "    </tr>\n",
              "  </thead>\n",
              "  <tbody>\n",
              "    <tr>\n",
              "      <th>0</th>\n",
              "      <td>770</td>\n",
              "      <td>946</td>\n",
              "      <td>2070</td>\n",
              "      <td>2973</td>\n",
              "    </tr>\n",
              "    <tr>\n",
              "      <th>1</th>\n",
              "      <td>270</td>\n",
              "      <td>1653</td>\n",
              "      <td>2280</td>\n",
              "      <td>2580</td>\n",
              "    </tr>\n",
              "    <tr>\n",
              "      <th>2</th>\n",
              "      <td>303</td>\n",
              "      <td>343</td>\n",
              "      <td>2273</td>\n",
              "      <td>2953</td>\n",
              "    </tr>\n",
              "    <tr>\n",
              "      <th>3</th>\n",
              "      <td>664</td>\n",
              "      <td>1782</td>\n",
              "      <td>1814</td>\n",
              "      <td>2076</td>\n",
              "    </tr>\n",
              "    <tr>\n",
              "      <th>4</th>\n",
              "      <td>704</td>\n",
              "      <td>432</td>\n",
              "      <td>1744</td>\n",
              "      <td>1552</td>\n",
              "    </tr>\n",
              "  </tbody>\n",
              "</table>\n",
              "</div>"
            ],
            "text/plain": [
              "     1     2     3     4\n",
              "0  770   946  2070  2973\n",
              "1  270  1653  2280  2580\n",
              "2  303   343  2273  2953\n",
              "3  664  1782  1814  2076\n",
              "4  704   432  1744  1552"
            ]
          },
          "metadata": {
            "tags": []
          },
          "execution_count": 102
        }
      ]
    },
    {
      "cell_type": "code",
      "metadata": {
        "colab": {
          "base_uri": "https://localhost:8080/"
        },
        "id": "kQLbZg4_Siek",
        "outputId": "9373bc3a-d07f-4c1d-f106-ef246073518d"
      },
      "source": [
        "n =5 \n",
        "\n",
        "img_name = train_bbox_df.iloc[n,0]\n",
        "bbox = train_bbox_df.iloc[n,1:-1]\n",
        "bbox = np.asarray(bbox)\n",
        "print(bbox)\n"
      ],
      "execution_count": 103,
      "outputs": [
        {
          "output_type": "stream",
          "text": [
            "[682 1740 1800 2440]\n"
          ],
          "name": "stdout"
        }
      ]
    },
    {
      "cell_type": "code",
      "metadata": {
        "colab": {
          "base_uri": "https://localhost:8080/",
          "height": 269
        },
        "id": "eJQqi81eTYqd",
        "outputId": "799c427b-1f9e-41c6-aba0-8ba779f7ba3d"
      },
      "source": [
        "import matplotlib.pyplot as plt\n",
        "from matplotlib.patches import Rectangle\n",
        "from PIL import Image\n",
        "\n",
        "\n",
        "def show_bbox(image, bbox):\n",
        "  \"\"\" Show image with bbox \"\"\"\n",
        "  plt.imshow(image)\n",
        "\n",
        "  # draw rectangle\n",
        "  xmin, ymin, xmax, ymax = bbox\n",
        "  w = xmax - xmin\n",
        "  h = ymax - ymin\n",
        "\n",
        "  rect = Rectangle((xmin, ymin), w, h,\n",
        "                   linewidth=1,edgecolor='r',\n",
        "                   facecolor='none')\n",
        "  ax = plt.gca()\n",
        "  ax.add_patch(rect)\n",
        "  plt.pause(0.001)\n",
        "\n",
        "\n",
        "im = Image.open(os.path.join(IMG_PATH, img_name))\n",
        "show_bbox(im, bbox)\n",
        "\n"
      ],
      "execution_count": 104,
      "outputs": [
        {
          "output_type": "display_data",
          "data": {
            "image/png": "[encoded data removed]",
            "text/plain": [
              "<Figure size 432x288 with 1 Axes>"
            ]
          },
          "metadata": {
            "tags": [],
            "needs_background": "light"
          }
        }
      ]
    },
    {
      "cell_type": "code",
      "metadata": {
        "colab": {
          "base_uri": "https://localhost:8080/"
        },
        "id": "7eakOIfkS-MY",
        "outputId": "ad71c25e-6b31-4d00-c748-807c1cda53bd"
      },
      "source": [
        "io.imread(os.path.join(IMG_PATH, img_name))"
      ],
      "execution_count": 105,
      "outputs": [
        {
          "output_type": "execute_result",
          "data": {
            "text/plain": [
              "array([[255, 255, 255, ..., 255, 255, 255],\n",
              "       [255, 255, 255, ..., 255, 255, 255],\n",
              "       [255, 255, 255, ..., 255, 255, 255],\n",
              "       ...,\n",
              "       [255, 255, 255, ..., 255, 255, 255],\n",
              "       [255, 255, 255, ..., 255, 255, 255],\n",
              "       [255, 255, 255, ..., 255, 255, 255]], dtype=uint8)"
            ]
          },
          "metadata": {
            "tags": []
          },
          "execution_count": 105
        }
      ]
    },
    {
      "cell_type": "code",
      "metadata": {
        "colab": {
          "base_uri": "https://localhost:8080/"
        },
        "id": "T5dnyJBxX9Mi",
        "outputId": "e0341c66-7310-468b-afc9-74ed43fe1640"
      },
      "source": [
        ""
      ],
      "execution_count": 49,
      "outputs": [
        {
          "output_type": "execute_result",
          "data": {
            "text/plain": [
              "PIL.PngImagePlugin.PngImageFile"
            ]
          },
          "metadata": {
            "tags": []
          },
          "execution_count": 49
        }
      ]
    },
    {
      "cell_type": "markdown",
      "metadata": {
        "id": "4_SOn5EPMlat"
      },
      "source": [
        "# Dataset"
      ]
    },
    {
      "cell_type": "code",
      "metadata": {
        "id": "mppGpg-WK_Sg"
      },
      "source": [
        "class TableDataset(Dataset):\n",
        "  \"\"\" Table Detection Dataset \"\"\"\n",
        "  def __init__(self, img_path, csv_file, transforms=False):\n",
        "    \"\"\"        \n",
        "    Args:\n",
        "      img_path (string): Directory containing images\n",
        "      csv_file (string): Path to the csv file containig annotations\n",
        "      transform (callable, optional): Transforms to be applied\n",
        "    \"\"\"\n",
        "    self.img_path = img_path\n",
        "    self.bbox_frame = pd.read_csv(csv_file, header=None)\n",
        "    self.transforms = transforms\n",
        "\n",
        "  def __len__(self):\n",
        "    return len(self.bbox_frame)\n",
        "\n",
        "  def __getitem__(self, idx):\n",
        "    \"\"\"\n",
        "    Returns sample at index 'idx'\n",
        "    Returns:\n",
        "      {\"image\": image, \"bbox\": bbox} (dict)\n",
        "    \"\"\"\n",
        "    if torch.is_tensor(idx):\n",
        "      idx = idx.tolist()\n",
        "\n",
        "    # load image\n",
        "    img_name = self.bbox_frame.iloc[idx,0]\n",
        "    image = skimage.io.imread(os.path.join(self.img_path, img_name))\n",
        "\n",
        "    # load coordinates of a bounding box\n",
        "    bbox = self.bbox_frame.iloc[idx,1:-1]\n",
        "    bbox = np.array(bbox)\n",
        "    sample = {'image': image, \"bbox\": bbox}\n",
        "\n",
        "    return sample\n",
        "\n",
        "\n"
      ],
      "execution_count": 106,
      "outputs": []
    },
    {
      "cell_type": "code",
      "metadata": {
        "colab": {
          "base_uri": "https://localhost:8080/",
          "height": 164
        },
        "id": "dVsrwyQuZbp6",
        "outputId": "6394542b-a1c9-4695-9bf1-27be866ec712"
      },
      "source": [
        ""
      ],
      "execution_count": 107,
      "outputs": [
        {
          "output_type": "error",
          "ename": "KeyError",
          "evalue": "ignored",
          "traceback": [
            "\u001b[0;31m---------------------------------------------------------------------------\u001b[0m",
            "\u001b[0;31mKeyError\u001b[0m                                  Traceback (most recent call last)",
            "\u001b[0;32m<ipython-input-107-301e2cf0a37a>\u001b[0m in \u001b[0;36m<module>\u001b[0;34m()\u001b[0m\n\u001b[0;32m----> 1\u001b[0;31m \u001b[0msample\u001b[0m\u001b[0;34m[\u001b[0m\u001b[0;34m\"bbox\"\u001b[0m\u001b[0;34m]\u001b[0m\u001b[0;34m\u001b[0m\u001b[0;34m\u001b[0m\u001b[0m\n\u001b[0m",
            "\u001b[0;31mKeyError\u001b[0m: 'bbox'"
          ]
        }
      ]
    },
    {
      "cell_type": "code",
      "metadata": {
        "colab": {
          "base_uri": "https://localhost:8080/",
          "height": 609
        },
        "id": "pjsCMmhfKVOG",
        "outputId": "b349bc23-9edc-4eed-dd2f-ef0789e320cf"
      },
      "source": [
        "# test\n",
        "\n",
        "ds = TableDataset(img_path = IMG_PATH, csv_file=\"data/train.csv\")\n",
        "\n",
        "fig = plt.figure()\n",
        "\n",
        "for i in range(len(ds)):\n",
        "  sample = ds[i]\n",
        "\n",
        "  print(i, sample[\"image\"].shape, sample[\"bbox\"].shape)\n",
        "\n",
        "  ax = plt.subplot(1,4, i+1)\n",
        "  plt.tight_layout()\n",
        "  ax.set_title(f\"Sample #{i}\")\n",
        "  ax.axis(\"off\")\n",
        "  show_bbox(**sample)\n",
        "\n",
        "  if i ==3:\n",
        "    plt.show()\n",
        "    break"
      ],
      "execution_count": 108,
      "outputs": [
        {
          "output_type": "stream",
          "text": [
            "0 (3300, 2544) (4,)\n"
          ],
          "name": "stdout"
        },
        {
          "output_type": "display_data",
          "data": {
            "image/png": "[encoded data removed]",
            "text/plain": [
              "<Figure size 432x288 with 1 Axes>"
            ]
          },
          "metadata": {
            "tags": [],
            "needs_background": "light"
          }
        },
        {
          "output_type": "stream",
          "text": [
            "1 (3300, 2544) (4,)\n"
          ],
          "name": "stdout"
        },
        {
          "output_type": "display_data",
          "data": {
            "image/png": "[encoded data removed]",
            "text/plain": [
              "<Figure size 432x288 with 1 Axes>"
            ]
          },
          "metadata": {
            "tags": [],
            "needs_background": "light"
          }
        },
        {
          "output_type": "stream",
          "text": [
            "2 (3300, 2544) (4,)\n"
          ],
          "name": "stdout"
        },
        {
          "output_type": "display_data",
          "data": {
            "image/png": "[encoded data removed]",
            "text/plain": [
              "<Figure size 432x288 with 1 Axes>"
            ]
          },
          "metadata": {
            "tags": [],
            "needs_background": "light"
          }
        },
        {
          "output_type": "stream",
          "text": [
            "3 (3300, 2560) (4,)\n"
          ],
          "name": "stdout"
        },
        {
          "output_type": "display_data",
          "data": {
            "image/png": "[encoded data removed]",
            "text/plain": [
              "<Figure size 432x288 with 1 Axes>"
            ]
          },
          "metadata": {
            "tags": [],
            "needs_background": "light"
          }
        }
      ]
    },
    {
      "cell_type": "code",
      "metadata": {
        "colab": {
          "base_uri": "https://localhost:8080/"
        },
        "id": "d0cRJIPSZESp",
        "outputId": "2752ac5c-0ed8-4e35-f825-f11d2f647a9c"
      },
      "source": [
        "sample[\"bbox\"]"
      ],
      "execution_count": 109,
      "outputs": [
        {
          "output_type": "execute_result",
          "data": {
            "text/plain": [
              "array([664, 1782, 1814, 2076], dtype=object)"
            ]
          },
          "metadata": {
            "tags": []
          },
          "execution_count": 109
        }
      ]
    },
    {
      "cell_type": "markdown",
      "metadata": {
        "id": "Do5BaI02bbJa"
      },
      "source": [
        "# Transforms"
      ]
    },
    {
      "cell_type": "code",
      "metadata": {
        "id": "WqcC5YdHbc6L"
      },
      "source": [
        "import skimage\n",
        "\n",
        "class Rescale(object):\n",
        "  def __init__(self, output_size):\n",
        "    assert isinstance(output_size, tuple)\n",
        "    self.output_size = output_size\n",
        "\n",
        "  def __call__(self, sample):\n",
        "    \"\"\"Rescale the image in a sample to a given size.\n",
        "\n",
        "    Args:\n",
        "        output_size (tuple or int): Desired output size. If tuple, output is\n",
        "            matched to output_size. If int, smaller of image edges is matched\n",
        "            to output_size keeping aspect ratio the same.\n",
        "    \"\"\"\n",
        "\n",
        "    image, bbox = sample['image'], sample['bbox']\n",
        "    xmin, ymin, xmax, ymax = bbox.tolist()\n",
        "    h, w = image.shape[:2]\n",
        "\n",
        "    new_h, new_w = self.output_size\n",
        "\n",
        "    image = skimage.transform.resize(image, (new_h, new_w))\n",
        "    bbox = bbox * [new_w / w, new_h / h,\n",
        "                             new_w / w, new_h / h]\n",
        "\n",
        "    resized_sample = {'image' : image, 'bbox' : bbox}\n",
        "    return resized_sample\n",
        "\n",
        "\n"
      ],
      "execution_count": 90,
      "outputs": []
    },
    {
      "cell_type": "code",
      "metadata": {
        "colab": {
          "base_uri": "https://localhost:8080/",
          "height": 269
        },
        "id": "C1J8HTPWeH8O",
        "outputId": "98c4bb05-9190-4d0e-9bbd-40716bf8eea8"
      },
      "source": [
        "scale = Rescale((500,300))\n",
        "\n",
        "imtest = scale(ds[1])\n",
        "\n",
        "show_bbox(**imtest)"
      ],
      "execution_count": 93,
      "outputs": [
        {
          "output_type": "display_data",
          "data": {
            "image/png": "[encoded data removed]",
            "text/plain": [
              "<Figure size 432x288 with 1 Axes>"
            ]
          },
          "metadata": {
            "tags": [],
            "needs_background": "light"
          }
        }
      ]
    },
    {
      "cell_type": "code",
      "metadata": {
        "colab": {
          "base_uri": "https://localhost:8080/"
        },
        "id": "VVR1Hz0Re3UW",
        "outputId": "61c1ae64-b05d-46a0-c898-806823b4cb82"
      },
      "source": [
        "ds[1][\"bbox\"].tolist()"
      ],
      "execution_count": 80,
      "outputs": [
        {
          "output_type": "execute_result",
          "data": {
            "text/plain": [
              "[270, 1653, 2280, 2580]"
            ]
          },
          "metadata": {
            "tags": []
          },
          "execution_count": 80
        }
      ]
    },
    {
      "cell_type": "code",
      "metadata": {
        "colab": {
          "base_uri": "https://localhost:8080/"
        },
        "id": "gFdZDTNpfB_U",
        "outputId": "d4e35ec7-7c9e-4caa-f3dc-a6d3edaf65c8"
      },
      "source": [
        "imtest[\"image\"].shape"
      ],
      "execution_count": 95,
      "outputs": [
        {
          "output_type": "execute_result",
          "data": {
            "text/plain": [
              "(500, 300)"
            ]
          },
          "metadata": {
            "tags": []
          },
          "execution_count": 95
        }
      ]
    },
    {
      "cell_type": "code",
      "metadata": {
        "id": "ibFwhEwDgiR3"
      },
      "source": [
        ""
      ],
      "execution_count": 99,
      "outputs": []
    },
    {
      "cell_type": "code",
      "metadata": {
        "id": "kaGX0g3Eh5W6"
      },
      "source": [
        ""
      ],
      "execution_count": null,
      "outputs": []
    }
  ]
}